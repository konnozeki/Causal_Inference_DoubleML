{
 "cells": [
  {
   "cell_type": "markdown",
   "metadata": {},
   "source": [
    "Phụ lục 2: Mã nguồn bài toán Ảnh hưởng của các khoản khuyến khích đến mức độ tìm hiểu bệnh lý của bản thân.\n",
    "\n",
    "Trong nội dung Khóa luận về Suy luận nhân quả và Double Machine Learning, bài toán Ảnh hưởng của các khoản khuyến khích đến mức độ tìm hiểu bệnh lý của bản thân là một trong hai bài toán đề ra trong nội dung. Bài toán này xem xét ảnh hưởng của việc áp dụng khuyến khích \n",
    "\n",
    "Đầu tiên, chúng ta import các thư viện cần thiết cho áp dụng các kỹ thuật. Bộ dữ liệu được tích hợp trong package causaldata, doubleml được sử dụng cho Double Machine Learning."
   ]
  },
  {
   "cell_type": "code",
   "execution_count": 14,
   "metadata": {},
   "outputs": [],
   "source": [
    "import numpy as np\n",
    "import pandas as pd\n",
    "import doubleml as dml\n",
    "from sklearn.ensemble import RandomForestClassifier, RandomForestRegressor\n",
    "import matplotlib.pyplot as plt\n",
    "from causaldata import thornton_hiv\n",
    "from sklearn.linear_model import LinearRegression"
   ]
  },
  {
   "cell_type": "markdown",
   "metadata": {},
   "source": [
    "Chúng ta import dữ liệu bài toán từ package và mô tả dữ liệu."
   ]
  },
  {
   "cell_type": "code",
   "execution_count": 15,
   "metadata": {},
   "outputs": [
    {
     "name": "stdout",
     "output_type": "stream",
     "text": [
      "<class 'pandas.core.frame.DataFrame'>\n",
      "RangeIndex: 4820 entries, 0 to 4819\n",
      "Data columns (total 7 columns):\n",
      " #   Column   Non-Null Count  Dtype  \n",
      "---  ------   --------------  -----  \n",
      " 0   villnum  4793 non-null   float64\n",
      " 1   got      2894 non-null   float64\n",
      " 2   distvct  4820 non-null   float32\n",
      " 3   tinc     2901 non-null   float32\n",
      " 4   any      2901 non-null   float64\n",
      " 5   age      4379 non-null   float64\n",
      " 6   hiv2004  2894 non-null   float64\n",
      "dtypes: float32(2), float64(5)\n",
      "memory usage: 226.1 KB\n"
     ]
    }
   ],
   "source": [
    "data = thornton_hiv.load_pandas().data\n",
    "data.info()"
   ]
  },
  {
   "cell_type": "code",
   "execution_count": 16,
   "metadata": {},
   "outputs": [
    {
     "data": {
      "text/html": [
       "<div>\n",
       "<style scoped>\n",
       "    .dataframe tbody tr th:only-of-type {\n",
       "        vertical-align: middle;\n",
       "    }\n",
       "\n",
       "    .dataframe tbody tr th {\n",
       "        vertical-align: top;\n",
       "    }\n",
       "\n",
       "    .dataframe thead th {\n",
       "        text-align: right;\n",
       "    }\n",
       "</style>\n",
       "<table border=\"1\" class=\"dataframe\">\n",
       "  <thead>\n",
       "    <tr style=\"text-align: right;\">\n",
       "      <th></th>\n",
       "      <th>villnum</th>\n",
       "      <th>got</th>\n",
       "      <th>distvct</th>\n",
       "      <th>tinc</th>\n",
       "      <th>any</th>\n",
       "      <th>age</th>\n",
       "      <th>hiv2004</th>\n",
       "    </tr>\n",
       "  </thead>\n",
       "  <tbody>\n",
       "    <tr>\n",
       "      <th>count</th>\n",
       "      <td>4793.000000</td>\n",
       "      <td>2894.000000</td>\n",
       "      <td>4820.000000</td>\n",
       "      <td>2901.000000</td>\n",
       "      <td>2901.000000</td>\n",
       "      <td>4379.000000</td>\n",
       "      <td>2894.000000</td>\n",
       "    </tr>\n",
       "    <tr>\n",
       "      <th>mean</th>\n",
       "      <td>63.477571</td>\n",
       "      <td>0.696614</td>\n",
       "      <td>2.002633</td>\n",
       "      <td>0.988040</td>\n",
       "      <td>0.765943</td>\n",
       "      <td>33.651747</td>\n",
       "      <td>0.059088</td>\n",
       "    </tr>\n",
       "    <tr>\n",
       "      <th>std</th>\n",
       "      <td>48.311774</td>\n",
       "      <td>0.459800</td>\n",
       "      <td>1.256523</td>\n",
       "      <td>0.901361</td>\n",
       "      <td>0.423481</td>\n",
       "      <td>13.162858</td>\n",
       "      <td>0.255527</td>\n",
       "    </tr>\n",
       "    <tr>\n",
       "      <th>min</th>\n",
       "      <td>1.000000</td>\n",
       "      <td>0.000000</td>\n",
       "      <td>0.000000</td>\n",
       "      <td>0.000000</td>\n",
       "      <td>0.000000</td>\n",
       "      <td>11.000000</td>\n",
       "      <td>-1.000000</td>\n",
       "    </tr>\n",
       "    <tr>\n",
       "      <th>25%</th>\n",
       "      <td>14.000000</td>\n",
       "      <td>0.000000</td>\n",
       "      <td>1.029921</td>\n",
       "      <td>0.094560</td>\n",
       "      <td>1.000000</td>\n",
       "      <td>23.000000</td>\n",
       "      <td>0.000000</td>\n",
       "    </tr>\n",
       "    <tr>\n",
       "      <th>50%</th>\n",
       "      <td>57.000000</td>\n",
       "      <td>1.000000</td>\n",
       "      <td>1.674839</td>\n",
       "      <td>0.945600</td>\n",
       "      <td>1.000000</td>\n",
       "      <td>32.000000</td>\n",
       "      <td>0.000000</td>\n",
       "    </tr>\n",
       "    <tr>\n",
       "      <th>75%</th>\n",
       "      <td>111.000000</td>\n",
       "      <td>1.000000</td>\n",
       "      <td>2.742947</td>\n",
       "      <td>1.891200</td>\n",
       "      <td>1.000000</td>\n",
       "      <td>43.000000</td>\n",
       "      <td>0.000000</td>\n",
       "    </tr>\n",
       "    <tr>\n",
       "      <th>max</th>\n",
       "      <td>145.000000</td>\n",
       "      <td>1.000000</td>\n",
       "      <td>5.191559</td>\n",
       "      <td>2.836800</td>\n",
       "      <td>1.000000</td>\n",
       "      <td>84.000000</td>\n",
       "      <td>1.000000</td>\n",
       "    </tr>\n",
       "  </tbody>\n",
       "</table>\n",
       "</div>"
      ],
      "text/plain": [
       "           villnum          got      distvct         tinc          any  \\\n",
       "count  4793.000000  2894.000000  4820.000000  2901.000000  2901.000000   \n",
       "mean     63.477571     0.696614     2.002633     0.988040     0.765943   \n",
       "std      48.311774     0.459800     1.256523     0.901361     0.423481   \n",
       "min       1.000000     0.000000     0.000000     0.000000     0.000000   \n",
       "25%      14.000000     0.000000     1.029921     0.094560     1.000000   \n",
       "50%      57.000000     1.000000     1.674839     0.945600     1.000000   \n",
       "75%     111.000000     1.000000     2.742947     1.891200     1.000000   \n",
       "max     145.000000     1.000000     5.191559     2.836800     1.000000   \n",
       "\n",
       "               age      hiv2004  \n",
       "count  4379.000000  2894.000000  \n",
       "mean     33.651747     0.059088  \n",
       "std      13.162858     0.255527  \n",
       "min      11.000000    -1.000000  \n",
       "25%      23.000000     0.000000  \n",
       "50%      32.000000     0.000000  \n",
       "75%      43.000000     0.000000  \n",
       "max      84.000000     1.000000  "
      ]
     },
     "execution_count": 16,
     "metadata": {},
     "output_type": "execute_result"
    }
   ],
   "source": [
    "data.describe()"
   ]
  },
  {
   "cell_type": "markdown",
   "metadata": {},
   "source": [
    "Bộ dữ liệu có nhiều trường thông tin NaN, chúng ta sẽ loại bỏ các bản ghi chứa dữ liệu đó."
   ]
  },
  {
   "cell_type": "code",
   "execution_count": 17,
   "metadata": {},
   "outputs": [
    {
     "name": "stdout",
     "output_type": "stream",
     "text": [
      "           villnum          got      distvct         tinc          any  \\\n",
      "count  2812.000000  2812.000000  2812.000000  2812.000000  2812.000000   \n",
      "mean     62.926387     0.692034     2.015685     1.006903     0.780228   \n",
      "std      49.196235     0.461734     1.265411     0.898624     0.414166   \n",
      "min       1.000000     0.000000     0.032887     0.000000     0.000000   \n",
      "25%      12.000000     0.000000     1.034826     0.189120     1.000000   \n",
      "50%      57.000000     1.000000     1.688662     0.945600     1.000000   \n",
      "75%     111.000000     1.000000     2.796018     1.891200     1.000000   \n",
      "max     145.000000     1.000000     5.191559     2.836800     1.000000   \n",
      "\n",
      "               age      hiv2004  \n",
      "count  2812.000000  2812.000000  \n",
      "mean     33.384780     0.062589  \n",
      "std      13.651709     0.242265  \n",
      "min      11.000000     0.000000  \n",
      "25%      22.000000     0.000000  \n",
      "50%      32.000000     0.000000  \n",
      "75%      43.000000     0.000000  \n",
      "max      80.000000     1.000000  \n"
     ]
    }
   ],
   "source": [
    "data = data.dropna()\n",
    "data = data[(data != -1).all(axis=1)]\n",
    "description = data.describe()\n",
    "\n",
    "print(description)"
   ]
  },
  {
   "cell_type": "markdown",
   "metadata": {},
   "source": [
    "Chúng ta sẽ biểu diễn tương quan của bộ dữ liệu."
   ]
  },
  {
   "cell_type": "code",
   "execution_count": 18,
   "metadata": {},
   "outputs": [
    {
     "data": {
      "image/png": "[encoded data removed]",
      "text/plain": [
       "<Figure size 640x480 with 2 Axes>"
      ]
     },
     "metadata": {},
     "output_type": "display_data"
    }
   ],
   "source": [
    "df_data = pd.DataFrame(data=data)\n",
    "import seaborn as sns\n",
    "correlation_matrix = df_data.corr()\n",
    "sns.heatmap(correlation_matrix, annot=True, cmap='coolwarm', fmt=\".2f\")\n",
    "plt.title(\"Correlation Matrix in Thornton's Study\")\n",
    "plt.show()"
   ]
  },
  {
   "cell_type": "markdown",
   "metadata": {},
   "source": [
    "Chúng ta sẽ thực hiện Linear Regression để đánh giá ảnh hưởng của biến any lên biến got."
   ]
  },
  {
   "cell_type": "code",
   "execution_count": 19,
   "metadata": {},
   "outputs": [
    {
     "name": "stdout",
     "output_type": "stream",
     "text": [
      "Hệ số của biến any lên biến got: 0.4371303556841299\n"
     ]
    }
   ],
   "source": [
    "X = df_data[['any', 'villnum', 'distvct', 'age', 'hiv2004']]\n",
    "y = df_data['got']\n",
    "\n",
    "model_sklearn = LinearRegression()\n",
    "model_sklearn.fit(X, y)\n",
    "print('Hệ số của biến any lên biến got:', model_sklearn.coef_[0])"
   ]
  },
  {
   "cell_type": "markdown",
   "metadata": {},
   "source": [
    "Chúng ta sẽ thực hiện DML cho bài toán này. Các mô hình có thể được sử dụng là PLR, IRM, trong đó IRM chúng ta có thể sử dụng ATE và ATTE cho ước lượng."
   ]
  },
  {
   "cell_type": "code",
   "execution_count": 20,
   "metadata": {},
   "outputs": [
    {
     "name": "stdout",
     "output_type": "stream",
     "text": [
      "================== DoubleMLData Object ==================\n",
      "\n",
      "------------------ Data summary      ------------------\n",
      "Outcome variable: got\n",
      "Treatment variable(s): ['any']\n",
      "Covariates: ['villnum', 'hiv2004', 'distvct', 'age']\n",
      "Instrument variable(s): None\n",
      "No. Observations: 2812\n",
      "\n",
      "------------------ DataFrame info    ------------------\n",
      "<class 'pandas.core.frame.DataFrame'>\n",
      "Index: 2812 entries, 0 to 4791\n",
      "Columns: 7 entries, villnum to hiv2004\n",
      "dtypes: float32(2), float64(5)\n",
      "memory usage: 153.8 KB\n",
      "\n"
     ]
    }
   ],
   "source": [
    "feature_base_any = ['villnum', 'hiv2004', 'distvct', 'age']\n",
    "dml_data_base_any = dml.DoubleMLData(data=data,  x_cols=feature_base_any, y_col='got', d_cols='any')\n",
    "print(dml_data_base_any)"
   ]
  },
  {
   "cell_type": "code",
   "execution_count": 25,
   "metadata": {},
   "outputs": [
    {
     "name": "stdout",
     "output_type": "stream",
     "text": [
      "================== DoubleMLPLR Object ==================\n",
      "\n",
      "------------------ Data summary      ------------------\n",
      "Outcome variable: got\n",
      "Treatment variable(s): ['any']\n",
      "Covariates: ['villnum', 'hiv2004', 'distvct', 'age']\n",
      "Instrument variable(s): None\n",
      "No. Observations: 2812\n",
      "\n",
      "------------------ Score & algorithm ------------------\n",
      "Score function: partialling out\n",
      "DML algorithm: dml2\n",
      "\n",
      "------------------ Machine learner   ------------------\n",
      "Learner ml_l: RandomForestRegressor(max_depth=5, max_features=20, min_samples_leaf=2)\n",
      "Learner ml_m: RandomForestRegressor(max_depth=5, max_features=20, min_samples_leaf=2)\n",
      "Out-of-sample Performance:\n",
      "Learner ml_l RMSE: [[0.45105819]]\n",
      "Learner ml_m RMSE: [[0.40099526]]\n",
      "\n",
      "------------------ Resampling        ------------------\n",
      "No. folds: 5\n",
      "No. repeated sample splits: 1\n",
      "Apply cross-fitting: True\n",
      "\n",
      "------------------ Fit summary       ------------------\n",
      "         coef   std err          t         P>|t|     2.5 %    97.5 %\n",
      "any  0.420476  0.021612  19.455637  2.610874e-84  0.378118  0.462835\n"
     ]
    }
   ],
   "source": [
    "ml_l = RandomForestRegressor(n_estimators=100, max_features=20, max_depth=5, min_samples_leaf=2)\n",
    "ml_m = RandomForestRegressor(n_estimators=100, max_features=20, max_depth=5, min_samples_leaf=2)\n",
    "np.random.seed(123)\n",
    "dml_plr_obj_rf = dml.DoubleMLPLR(dml_data_base_any, ml_l=ml_l, ml_m=ml_m)\n",
    "print(dml_plr_obj_rf.fit())"
   ]
  },
  {
   "cell_type": "code",
   "execution_count": 23,
   "metadata": {},
   "outputs": [
    {
     "name": "stdout",
     "output_type": "stream",
     "text": [
      "================== DoubleMLIRM Object ==================\n",
      "\n",
      "------------------ Data summary      ------------------\n",
      "Outcome variable: got\n",
      "Treatment variable(s): ['any']\n",
      "Covariates: ['villnum', 'hiv2004', 'distvct', 'age']\n",
      "Instrument variable(s): None\n",
      "No. Observations: 2812\n",
      "\n",
      "------------------ Score & algorithm ------------------\n",
      "Score function: ATE\n",
      "DML algorithm: dml2\n",
      "\n",
      "------------------ Machine learner   ------------------\n",
      "Learner ml_g: RandomForestRegressor(max_depth=5, max_features=20, min_samples_leaf=2)\n",
      "Learner ml_m: RandomForestClassifier(max_depth=5, max_features=20, min_samples_leaf=2)\n",
      "Out-of-sample Performance:\n",
      "Learner ml_g0 RMSE: [[0.4671459]]\n",
      "Learner ml_g1 RMSE: [[0.40527883]]\n",
      "Learner ml_m RMSE: [[0.40121232]]\n",
      "\n",
      "------------------ Resampling        ------------------\n",
      "No. folds: 5\n",
      "No. repeated sample splits: 1\n",
      "Apply cross-fitting: True\n",
      "\n",
      "------------------ Fit summary       ------------------\n",
      "        coef  std err          t         P>|t|     2.5 %    97.5 %\n",
      "any  0.42108   0.0258  16.320703  7.032131e-60  0.370512  0.471647\n"
     ]
    }
   ],
   "source": [
    "ml_g = RandomForestRegressor(n_estimators=100, max_features=20, max_depth=5, min_samples_leaf=2)\n",
    "ml_m = RandomForestClassifier(n_estimators=100, max_features=20, max_depth=5, min_samples_leaf=2)\n",
    "np.random.seed(123)\n",
    "dml_irm_obj_rf_ate = dml.DoubleMLIRM(dml_data_base_any, ml_g=ml_g, ml_m=ml_m)\n",
    "print(dml_irm_obj_rf_ate.fit())"
   ]
  },
  {
   "cell_type": "code",
   "execution_count": 24,
   "metadata": {},
   "outputs": [
    {
     "name": "stdout",
     "output_type": "stream",
     "text": [
      "================== DoubleMLIRM Object ==================\n",
      "\n",
      "------------------ Data summary      ------------------\n",
      "Outcome variable: got\n",
      "Treatment variable(s): ['any']\n",
      "Covariates: ['villnum', 'hiv2004', 'distvct', 'age']\n",
      "Instrument variable(s): None\n",
      "No. Observations: 2812\n",
      "\n",
      "------------------ Score & algorithm ------------------\n",
      "Score function: ATTE\n",
      "DML algorithm: dml2\n",
      "\n",
      "------------------ Machine learner   ------------------\n",
      "Learner ml_g: RandomForestRegressor(max_depth=5, max_features=20, min_samples_leaf=2)\n",
      "Learner ml_m: RandomForestClassifier(max_depth=5, max_features=20, min_samples_leaf=2)\n",
      "Out-of-sample Performance:\n",
      "Learner ml_g0 RMSE: [[0.4671459]]\n",
      "Learner ml_g1 RMSE: [[0.40527883]]\n",
      "Learner ml_m RMSE: [[0.40121232]]\n",
      "\n",
      "------------------ Resampling        ------------------\n",
      "No. folds: 5\n",
      "No. repeated sample splits: 1\n",
      "Apply cross-fitting: True\n",
      "\n",
      "------------------ Fit summary       ------------------\n",
      "         coef   std err          t         P>|t|     2.5 %    97.5 %\n",
      "any  0.419783  0.028523  14.717264  4.994596e-49  0.363878  0.475687\n"
     ]
    }
   ],
   "source": [
    "ml_g = RandomForestRegressor(n_estimators=100, max_features=20, max_depth=5, min_samples_leaf=2)\n",
    "ml_m = RandomForestClassifier(n_estimators=100, max_features=20, max_depth=5, min_samples_leaf=2)\n",
    "np.random.seed(123)\n",
    "dml_irm_obj_rf_atte = dml.DoubleMLIRM(dml_data_base_any, ml_g=ml_g, ml_m=ml_m, score='ATTE')\n",
    "print(dml_irm_obj_rf_atte.fit())"
   ]
  },
  {
   "cell_type": "markdown",
   "metadata": {},
   "source": [
    "Để ước lượng ảnh hưởng của giá trị khoản khuyến khích tới hành vi Tìm hiểu bệnh lý, chúng ta sẽ ước lượng ảnh hưởng của biến tinc lên biến got."
   ]
  },
  {
   "cell_type": "code",
   "execution_count": 27,
   "metadata": {},
   "outputs": [
    {
     "name": "stdout",
     "output_type": "stream",
     "text": [
      "Hệ số của biến atinc lên biến got: 0.08538236971602975\n"
     ]
    }
   ],
   "source": [
    "X = df_data[['tinc', 'villnum', 'distvct', 'age', 'hiv2004', 'any']]\n",
    "y = df_data['got']\n",
    "\n",
    "model_sklearn_tinc = LinearRegression()\n",
    "model_sklearn_tinc.fit(X, y)\n",
    "print('Hệ số của biến atinc lên biến got:', model_sklearn_tinc.coef_[0])"
   ]
  },
  {
   "cell_type": "code",
   "execution_count": 28,
   "metadata": {},
   "outputs": [
    {
     "name": "stdout",
     "output_type": "stream",
     "text": [
      "================== DoubleMLData Object ==================\n",
      "\n",
      "------------------ Data summary      ------------------\n",
      "Outcome variable: got\n",
      "Treatment variable(s): ['tinc']\n",
      "Covariates: ['any', 'villnum', 'hiv2004', 'distvct', 'age']\n",
      "Instrument variable(s): None\n",
      "No. Observations: 2812\n",
      "\n",
      "------------------ DataFrame info    ------------------\n",
      "<class 'pandas.core.frame.DataFrame'>\n",
      "Index: 2812 entries, 0 to 4791\n",
      "Columns: 7 entries, villnum to hiv2004\n",
      "dtypes: float32(2), float64(5)\n",
      "memory usage: 153.8 KB\n",
      "\n"
     ]
    }
   ],
   "source": [
    "feature_base_tinc_with_any = ['any', 'villnum', 'hiv2004', 'distvct', 'age']\n",
    "dml_data_base_tinc_with_any = dml.DoubleMLData(data=data,  x_cols=feature_base_tinc_with_any, y_col='got', d_cols='tinc')\n",
    "print(dml_data_base_tinc_with_any)"
   ]
  },
  {
   "cell_type": "code",
   "execution_count": 29,
   "metadata": {},
   "outputs": [
    {
     "name": "stdout",
     "output_type": "stream",
     "text": [
      "================== DoubleMLPLR Object ==================\n",
      "\n",
      "------------------ Data summary      ------------------\n",
      "Outcome variable: got\n",
      "Treatment variable(s): ['tinc']\n",
      "Covariates: ['any', 'villnum', 'hiv2004', 'distvct', 'age']\n",
      "Instrument variable(s): None\n",
      "No. Observations: 2812\n",
      "\n",
      "------------------ Score & algorithm ------------------\n",
      "Score function: partialling out\n",
      "DML algorithm: dml2\n",
      "\n",
      "------------------ Machine learner   ------------------\n",
      "Learner ml_l: RandomForestRegressor(max_depth=5, max_features=20, min_samples_leaf=2)\n",
      "Learner ml_m: RandomForestRegressor(max_depth=5, max_features=20, min_samples_leaf=2)\n",
      "Out-of-sample Performance:\n",
      "Learner ml_l RMSE: [[0.41888418]]\n",
      "Learner ml_m RMSE: [[0.72119755]]\n",
      "\n",
      "------------------ Resampling        ------------------\n",
      "No. folds: 5\n",
      "No. repeated sample splits: 1\n",
      "Apply cross-fitting: True\n",
      "\n",
      "------------------ Fit summary       ------------------\n",
      "          coef  std err        t         P>|t|     2.5 %    97.5 %\n",
      "tinc  0.088225  0.01047  8.42626  3.568891e-17  0.067703  0.108746\n"
     ]
    }
   ],
   "source": [
    "ml_l = RandomForestRegressor(n_estimators=100, max_features=20, max_depth=5, min_samples_leaf=2)\n",
    "ml_m = RandomForestRegressor(n_estimators=100, max_features=20, max_depth=5, min_samples_leaf=2)\n",
    "np.random.seed(123)\n",
    "dml_plr_obj_tinc_with_any_rf = dml.DoubleMLPLR(dml_data_base_tinc_with_any, ml_l=ml_l, ml_m=ml_m)\n",
    "print(dml_plr_obj_tinc_with_any_rf.fit())"
   ]
  },
  {
   "cell_type": "code",
   "execution_count": 30,
   "metadata": {},
   "outputs": [
    {
     "name": "stdout",
     "output_type": "stream",
     "text": [
      "================== DoubleMLData Object ==================\n",
      "\n",
      "------------------ Data summary      ------------------\n",
      "Outcome variable: got\n",
      "Treatment variable(s): ['tinc']\n",
      "Covariates: ['villnum', 'hiv2004', 'distvct', 'age']\n",
      "Instrument variable(s): None\n",
      "No. Observations: 2812\n",
      "\n",
      "------------------ DataFrame info    ------------------\n",
      "<class 'pandas.core.frame.DataFrame'>\n",
      "Index: 2812 entries, 0 to 4791\n",
      "Columns: 7 entries, villnum to hiv2004\n",
      "dtypes: float32(2), float64(5)\n",
      "memory usage: 153.8 KB\n",
      "\n"
     ]
    }
   ],
   "source": [
    "feature_base_tinc_without_any = ['villnum', 'hiv2004', 'distvct', 'age']\n",
    "dml_data_base_tinc_without_any = dml.DoubleMLData(data=data,  x_cols=feature_base_tinc_without_any, y_col='got', d_cols='tinc')\n",
    "print(dml_data_base_tinc_without_any)"
   ]
  },
  {
   "cell_type": "code",
   "execution_count": 31,
   "metadata": {},
   "outputs": [
    {
     "name": "stdout",
     "output_type": "stream",
     "text": [
      "================== DoubleMLPLR Object ==================\n",
      "\n",
      "------------------ Data summary      ------------------\n",
      "Outcome variable: got\n",
      "Treatment variable(s): ['tinc']\n",
      "Covariates: ['villnum', 'hiv2004', 'distvct', 'age']\n",
      "Instrument variable(s): None\n",
      "No. Observations: 2812\n",
      "\n",
      "------------------ Score & algorithm ------------------\n",
      "Score function: partialling out\n",
      "DML algorithm: dml2\n",
      "\n",
      "------------------ Machine learner   ------------------\n",
      "Learner ml_l: RandomForestRegressor(max_depth=5, max_features=20, min_samples_leaf=2)\n",
      "Learner ml_m: RandomForestRegressor(max_depth=5, max_features=20, min_samples_leaf=2)\n",
      "Out-of-sample Performance:\n",
      "Learner ml_l RMSE: [[0.45105819]]\n",
      "Learner ml_m RMSE: [[0.90104886]]\n",
      "\n",
      "------------------ Resampling        ------------------\n",
      "No. folds: 5\n",
      "No. repeated sample splits: 1\n",
      "Apply cross-fitting: True\n",
      "\n",
      "------------------ Fit summary       ------------------\n",
      "         coef  std err          t         P>|t|     2.5 %    97.5 %\n",
      "tinc  0.16904  0.00882  19.166257  7.082546e-82  0.151753  0.186326\n"
     ]
    }
   ],
   "source": [
    "ml_l = RandomForestRegressor(n_estimators=100, max_features=20, max_depth=5, min_samples_leaf=2)\n",
    "ml_m = RandomForestRegressor(n_estimators=100, max_features=20, max_depth=5, min_samples_leaf=2)\n",
    "np.random.seed(123)\n",
    "dml_plr_obj_tinc_without_any_rf = dml.DoubleMLPLR(dml_data_base_tinc_without_any, ml_l=ml_l, ml_m=ml_m)\n",
    "print(dml_plr_obj_tinc_without_any_rf.fit())"
   ]
  }
 ],
 "metadata": {
  "kernelspec": {
   "display_name": "Python 3",
   "language": "python",
   "name": "python3"
  },
  "language_info": {
   "codemirror_mode": {
    "name": "ipython",
    "version": 3
   },
   "file_extension": ".py",
   "mimetype": "text/x-python",
   "name": "python",
   "nbconvert_exporter": "python",
   "pygments_lexer": "ipython3",
   "version": "3.11.4"
  }
 },
 "nbformat": 4,
 "nbformat_minor": 2
}
